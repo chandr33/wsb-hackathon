{
 "cells": [
  {
   "cell_type": "markdown",
   "metadata": {},
   "source": [
    "## Securely store your credentials\n",
    "\n",
    "Note we recommend that you create a dedicated account for this separate from your own personal account (assuming you have one).\n",
    "\n",
    "In order to obtain your specific client_id and secret key, you'll need to register a new script at: https://www.reddit.com/prefs/apps. Make sure you are logged in, and click \"Create App\" near the bottom of the page, and register a new script. For the 'name' and 'redirect uri' fields, you can enter generic data like 'Test App' and 'http://www.example.com/unused/redirect/uri', the other fields are optional. This should present you with two codes, the client_id and the secret key."
   ]
  },
  {
   "cell_type": "markdown",
   "metadata": {},
   "source": [
    "This script below will initialize secure storage for your credentials.  Please do not embed secrets in Notebooks since they are plain text and this directory is in the public Morningstar shared directory."
   ]
  },
  {
   "cell_type": "code",
   "execution_count": 1,
   "metadata": {},
   "outputs": [
    {
     "name": "stdout",
     "output_type": "stream",
     "text": [
      "My Reddit user name registered with the App\n",
      "Enter your secret\n"
     ]
    },
    {
     "name": "stdin",
     "output_type": "stream",
     "text": [
      " ······························\n"
     ]
    },
    {
     "name": "stdout",
     "output_type": "stream",
     "text": [
      "Enter the password associated with the developer\n"
     ]
    },
    {
     "name": "stdin",
     "output_type": "stream",
     "text": [
      " ········\n"
     ]
    },
    {
     "name": "stdout",
     "output_type": "stream",
     "text": [
      "saved to /home/jovyan/reddit_encypt.json\n"
     ]
    }
   ],
   "source": [
    "from cryptography.fernet import Fernet\n",
    "\n",
    "\n",
    "# generate a private key for encrypting/decrypting the data, place this a folder which\n",
    "# is not public and not immediately available to others.\n",
    "\n",
    "def generate_key():\n",
    "    \"\"\"\n",
    "    Generates a key and save it into a file\n",
    "    \"\"\"\n",
    "    key = Fernet.generate_key()\n",
    "    with open(\"/home/jovyan/secret.key\", \"wb\") as key_file:\n",
    "        key_file.write(key)\n",
    "        \n",
    "generate_key()\n",
    "\n",
    "#Encypt your password\n",
    "\n",
    "import getpass\n",
    "import socket\n",
    "import json\n",
    "from cryptography.fernet import Fernet\n",
    "\n",
    "def encrypt(plaintext):\n",
    "    key = load_key()\n",
    "    f = Fernet(key)\n",
    "    return f.encrypt(plaintext.encode())\n",
    "\n",
    "def decrypt(encrypted_message):\n",
    "    key = load_key()\n",
    "    f = Fernet(key)\n",
    "    decrypted_message = f.decrypt(encrypted_message)\n",
    "    return decrypted_message.decode()\n",
    "\n",
    "def load_key():\n",
    "    return open(\"/home/jovyan/secret.key\", \"rb\").read()\n",
    "\n",
    "\n",
    "# this is my app id\n",
    "client_id = 'r12IvewvRrWqFA'\n",
    "print(\"My Reddit user name registered with the App\")\n",
    "\n",
    "# this my new account for scraping reddit\n",
    "user_name = \"Practical_Waltz7033\"\n",
    "\n",
    "\n",
    "print(\"Enter your secret\")\n",
    "secret=getpass.getpass()\n",
    "print(\"Enter the password associated with the developer\")\n",
    "password = getpass.getpass()\n",
    "\n",
    "#create a dictionary with this data.\n",
    "creds={'client_id':client_id,'secret':secret,\"password\":password,\"username\":user_name}\n",
    "\n",
    "#write the data to disk for later retrieval\n",
    "with open('/home/jovyan/reddit_encypt.json', 'wb') as fout:\n",
    "    fout.write(encrypt(json.dumps(creds)))\n",
    "    print('saved to /home/jovyan/reddit_encypt.json')"
   ]
  },
  {
   "cell_type": "code",
   "execution_count": null,
   "metadata": {},
   "outputs": [],
   "source": []
  },
  {
   "cell_type": "code",
   "execution_count": null,
   "metadata": {},
   "outputs": [],
   "source": []
  }
 ],
 "metadata": {
  "kernelspec": {
   "display_name": "Python 3",
   "language": "python",
   "name": "python3"
  },
  "language_info": {
   "codemirror_mode": {
    "name": "ipython",
    "version": 3
   },
   "file_extension": ".py",
   "mimetype": "text/x-python",
   "name": "python",
   "nbconvert_exporter": "python",
   "pygments_lexer": "ipython3",
   "version": "3.8.6"
  }
 },
 "nbformat": 4,
 "nbformat_minor": 4
}
